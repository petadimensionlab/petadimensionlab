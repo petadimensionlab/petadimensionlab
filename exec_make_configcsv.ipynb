{
 "cells": [
  {
   "cell_type": "code",
   "execution_count": 5,
   "metadata": {
    "collapsed": true
   },
   "outputs": [],
   "source": [
    "import os"
   ]
  },
  {
   "cell_type": "code",
   "execution_count": 6,
   "metadata": {
    "collapsed": true
   },
   "outputs": [],
   "source": [
    "data_dir = '/Volumes/bkup_vol001/tanamai/tmp/PRJEB6456'\n",
    "is_pairend = 'yes'"
   ]
  },
  {
   "cell_type": "code",
   "execution_count": 7,
   "metadata": {
    "collapsed": true
   },
   "outputs": [],
   "source": [
    "os.chdir(data_dir)\n",
    "fr = open('SRR_Acc_List.txt','r').readlines()\n",
    "fw = open('config.csv','w')"
   ]
  },
  {
   "cell_type": "code",
   "execution_count": 8,
   "metadata": {
    "collapsed": true
   },
   "outputs": [],
   "source": [
    "if is_pairend=='yes':\n",
    "    R1 = '_1.fastq.gz'\n",
    "    R2 = '_2.fastq.gz'\n",
    "    for line in fr:\n",
    "        Acc = line.replace('\\n','')\n",
    "        R1name = Acc+R1\n",
    "        R2name = Acc+R2\n",
    "        lst = [Acc,R1name,R2name]\n",
    "        saveline = ','.join(lst)\n",
    "        fw.write(saveline+'\\n')\n",
    "    #fw.write('\\n')\n",
    "    fw.close()\n",
    "else:\n",
    "    R = '.fastq.gz'\n",
    "    for line in fr:\n",
    "        Acc = line.replace('\\n','')\n",
    "        Rname = Acc+R\n",
    "        lst = [Acc,Rname]\n",
    "        saveline = ','.join(lst)\n",
    "        fw.write(saveline+'\\n')\n",
    "    #fw.write('\\n')\n",
    "    fw.close()"
   ]
  },
  {
   "cell_type": "code",
   "execution_count": null,
   "metadata": {
    "collapsed": true
   },
   "outputs": [],
   "source": []
  }
 ],
 "metadata": {
  "kernelspec": {
   "display_name": "Python 3",
   "language": "python",
   "name": "python3"
  },
  "language_info": {
   "codemirror_mode": {
    "name": "ipython",
    "version": 3
   },
   "file_extension": ".py",
   "mimetype": "text/x-python",
   "name": "python",
   "nbconvert_exporter": "python",
   "pygments_lexer": "ipython3",
   "version": "3.6.2"
  }
 },
 "nbformat": 4,
 "nbformat_minor": 2
}
